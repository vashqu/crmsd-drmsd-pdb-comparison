{
 "cells": [
  {
   "cell_type": "code",
   "execution_count": null,
   "id": "8d6088db",
   "metadata": {},
   "outputs": [],
   "source": [
    "from Bio.PDB import PDBParser\n",
    "import numpy as np\n",
    "import random\n",
    "\n",
    "def load_coordinates(pdb_file):\n",
    "    \"\"\"Load coordinates from a PDB file.\n",
    "    Returns a numpy array of shape (n_atoms, 3) for all CA atoms.\"\"\"\n",
    "    parser = PDBParser(QUIET=True)\n",
    "    structure = parser.get_structure('PDB', pdb_file)\n",
    "    coords = []\n",
    "    for model in structure:\n",
    "        for chain in model: #iterate over chains\n",
    "            for residue in chain: #iterate over residues\n",
    "                if residue.has_id('CA'):  # Only consider alpha carbons\n",
    "                    coords.append(residue['CA'].get_coord()) #extract xyz\n",
    "    return np.array(coords)\n",
    "\n",
    "def crmsd(coords1, coords2):\n",
    "    # Center the coordinates\n",
    "    c1_centered = coords1 - coords1.mean(axis=0)\n",
    "    c2_centered = coords2 - coords2.mean(axis=0)\n",
    "    \n",
    "    # Compute optimal rotation using Kabsch algorithm\n",
    "    H = c1_centered.T @ c2_centered\n",
    "    U, S, Vt = np.linalg.svd(H)\n",
    "    R = Vt.T @ U.T\n",
    "    \n",
    "    # Apply rotation to coords1\n",
    "    c1_rot = c1_centered @ R\n",
    "    \n",
    "    # Compute RMSD\n",
    "    diff = c1_rot - c2_centered\n",
    "    return np.sqrt(np.mean(np.sum(diff**2, axis=1)))\n",
    "\n",
    "\n",
    "def pairwise_distance(coords):\n",
    "    \"\"\"Compute pairwise distance matrix for a set of coordinates.\n",
    "    Returns (n x n) where i and j is the distance between i and j\"\"\"\n",
    "    n = len(coords)\n",
    "    dist_matrix = np.zeros((n, n))\n",
    "    for i in range(n):\n",
    "        for j in range(i+1, n):\n",
    "            dist =np.linalg.norm(coords[i] - coords[j]) # Euclidean distance\n",
    "            dist_matrix[i, j] = dist\n",
    "            dist_matrix[j, i] = dist # Symmetric matrix\n",
    "    return dist_matrix\n",
    "\n",
    "def drmsd(D1, D2, indices=None):\n",
    "    if indices is None:\n",
    "        # Use all unique upper-triangle pairs (i < j)\n",
    "        ixs = [(i, j) for i in range(len(D1)) for j in range(i+1, len(D1))]\n",
    "    else:\n",
    "        ixs = indices # Use provided indices\n",
    "    diff_sq = [(D1[i, j] - D2[i, j])**2 for i, j in ixs] #calculate squared diff for each pair\n",
    "    return np.sqrt(np.mean(diff_sq))\n"
   ]
  },
  {
   "cell_type": "code",
   "execution_count": 36,
   "id": "5040fa09",
   "metadata": {},
   "outputs": [],
   "source": [
    "coords1 = load_coordinates(\"6lu7_ca_50_99.pdb\")\n",
    "coords2 = load_coordinates(\"2amd_ca_50_99.pdb\")"
   ]
  },
  {
   "cell_type": "code",
   "execution_count": 37,
   "id": "026ec37f",
   "metadata": {},
   "outputs": [
    {
     "name": "stdout",
     "output_type": "stream",
     "text": [
      "c-RMSD: 0.794 Å\n"
     ]
    }
   ],
   "source": [
    "crmsd = crmsd(coords1, coords2)\n",
    "print(f\"c-RMSD: {crmsd:.3f} Å\")"
   ]
  },
  {
   "cell_type": "code",
   "execution_count": 38,
   "id": "ad673874",
   "metadata": {},
   "outputs": [
    {
     "name": "stdout",
     "output_type": "stream",
     "text": [
      "(b) d-RMSD (all pairs): 0.264 Å\n"
     ]
    }
   ],
   "source": [
    "D1 = pairwise_distance(coords1)\n",
    "D2 = pairwise_distance(coords2)\n",
    "drmsd_all = drmsd(D1, D2)\n",
    "print(f\"(b) d-RMSD (all pairs): {drmsd_all:.3f} Å\")"
   ]
  },
  {
   "cell_type": "code",
   "execution_count": null,
   "id": "93d5d533",
   "metadata": {},
   "outputs": [
    {
     "name": "stdout",
     "output_type": "stream",
     "text": [
      "(c) d-RMSD (600 shortest pairs): 0.257 Å\n"
     ]
    }
   ],
   "source": [
    "#generate ca-ca pairs, sort them and use 600 shortest pairs\n",
    "ixs_all = [(i, j) for i in range(len(D1)) for j in range(i+1, len(D1))]\n",
    "sorted_ixs = sorted(ixs_all, key=lambda ij: (D1[ij[0], ij[1]] + D2[ij[0], ij[1]]) / 2)\n",
    "drmsd_600_shortest = drmsd(D1, D2, indices=sorted_ixs[:600])\n",
    "print(f\"(c) d-RMSD (600 shortest pairs): {drmsd_600_shortest:.3f} Å\")\n"
   ]
  },
  {
   "cell_type": "code",
   "execution_count": null,
   "id": "cefbe62a",
   "metadata": {},
   "outputs": [
    {
     "name": "stdout",
     "output_type": "stream",
     "text": [
      "(d) d-RMSD (600 random pairs): 0.263 Å\n"
     ]
    }
   ],
   "source": [
    "#use random sampling to get 600 pairs\n",
    "random_ixs = random.sample(ixs_all, 600)\n",
    "drmsd_600_random = drmsd(D1, D2, indices=random_ixs)\n",
    "print(f\"(d) d-RMSD (600 random pairs): {drmsd_600_random:.3f} Å\")"
   ]
  }
 ],
 "metadata": {
  "kernelspec": {
   "display_name": "ML_Test",
   "language": "python",
   "name": "python3"
  },
  "language_info": {
   "codemirror_mode": {
    "name": "ipython",
    "version": 3
   },
   "file_extension": ".py",
   "mimetype": "text/x-python",
   "name": "python",
   "nbconvert_exporter": "python",
   "pygments_lexer": "ipython3",
   "version": "3.12.9"
  }
 },
 "nbformat": 4,
 "nbformat_minor": 5
}
